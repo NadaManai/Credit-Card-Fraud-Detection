{
 "cells": [
  {
   "cell_type": "code",
   "execution_count": null,
   "id": "858651c3-6232-41af-8f22-990c02285309",
   "metadata": {},
   "outputs": [],
   "source": [
    "<p style=\"background-color: #0055A4; font-size: 48px; font-weight: bold; color: white; padding: 20px; text-align: center;\">\n",
    "🧹 Data Cleaning\n",
    "</p>\n"
   ]
  }
 ],
 "metadata": {
  "kernelspec": {
   "display_name": "Python 3 (ipykernel)",
   "language": "python",
   "name": "python3"
  },
  "language_info": {
   "codemirror_mode": {
    "name": "ipython",
    "version": 3
   },
   "file_extension": ".py",
   "mimetype": "text/x-python",
   "name": "python",
   "nbconvert_exporter": "python",
   "pygments_lexer": "ipython3",
   "version": "3.11.11"
  }
 },
 "nbformat": 4,
 "nbformat_minor": 5
}
